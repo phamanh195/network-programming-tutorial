{
 "cells": [
  {
   "cell_type": "markdown",
   "id": "9fb42c52",
   "metadata": {},
   "source": [
    "# What is a socket?"
   ]
  },
  {
   "cell_type": "markdown",
   "id": "06ff864c",
   "metadata": {},
   "source": [
    "**Socket**: a way to speak to other programs using Unix file descriptors.\n",
    "\n",
    "Communicate through using ***send()***, ***recv()*** socket calls."
   ]
  },
  {
   "cell_type": "markdown",
   "id": "32262ac7",
   "metadata": {},
   "source": [
    "## Internet sockets"
   ]
  },
  {
   "cell_type": "markdown",
   "id": "b3cd8409",
   "metadata": {},
   "source": [
    "### Stream sockets (SOCK_STREAM)"
   ]
  },
  {
   "cell_type": "markdown",
   "id": "46435974",
   "metadata": {},
   "source": [
    "Stream sockets are reliable two-way connected communication streams.\n",
    "\n",
    "If you output two items into the socket in the order “1, 2”, they will arrive in the order “1, 2” at the opposite end.\n",
    "\n",
    "Stream sockets use TCP (The Transmission Control Protocol). TCP makes sure your data arrives sequentially and error-free."
   ]
  },
  {
   "cell_type": "markdown",
   "id": "6931fe93",
   "metadata": {},
   "source": [
    "### Datagram sockets (SOCK_DGRAM)"
   ]
  },
  {
   "cell_type": "markdown",
   "id": "74704ea9",
   "metadata": {},
   "source": [
    "Datagram sockets sometimes called \"connectionless\" sockets.\n",
    "\n",
    "Datagram sockets use UDP (User Datagram Protocol)\n",
    "\n",
    "They use when a TCP is unavailable or when a few dropped packets is acceptable (unreliable application likes games, audio, video..)\n",
    "\n",
    "**Advantage**: Performance is much better than Stream sockets."
   ]
  },
  {
   "cell_type": "markdown",
   "id": "13455d60",
   "metadata": {},
   "source": [
    "###  Low levels"
   ]
  },
  {
   "cell_type": "markdown",
   "id": "ca367619",
   "metadata": {},
   "source": [
    "Data encapsulation\n",
    "\n",
    "Layered Network Model\n",
    "* Application Layer (telnet, ftp, etc.)\n",
    "* Host-to-Host Transport Layer (TCP, UDP)\n",
    "* Internet Layer (IP and routing)\n",
    "* Netword Access Layer (Ethernet, wi-fi,etc.)"
   ]
  },
  {
   "cell_type": "markdown",
   "id": "ce97a605",
   "metadata": {},
   "source": [
    "## IP Address, structs and Data Munging"
   ]
  },
  {
   "cell_type": "markdown",
   "id": "8a1ab8b3",
   "metadata": {},
   "source": [
    "### IP Address"
   ]
  },
  {
   "cell_type": "markdown",
   "id": "c46e84f8",
   "metadata": {},
   "source": [
    "The Internet Protocol Version 4 - IPv4 is a internet routing system (Ex: 192.0.2.111). Build in 32-bit, produce $2^{32}$ addresses.\n",
    "\n",
    "IPv6 (2001:0db8:c9d2:0012:0000:0000:0000:0051). 128-bit, $2^{128}$ addresses.\n",
    "\n",
    "\n"
   ]
  },
  {
   "cell_type": "markdown",
   "id": "72432e71",
   "metadata": {},
   "source": [
    "### Subnets"
   ]
  },
  {
   "cell_type": "markdown",
   "id": "8beee310",
   "metadata": {},
   "source": [
    "192.0.2.12/26\n",
    "\n",
    "192.0.2: Network \\\n",
    "12: Host (Host 12 on Network 192.0.2.0 - bitwise AND with 255.255.255.0) \\\n",
    "26: Subnets"
   ]
  },
  {
   "cell_type": "markdown",
   "id": "f5084aa2",
   "metadata": {},
   "source": [
    "### Port Numbers"
   ]
  },
  {
   "cell_type": "markdown",
   "id": "5a67eddc",
   "metadata": {},
   "source": [
    "The address is used by TCP (stream sockets) or UDP (datagrams sockets). 16-bit."
   ]
  },
  {
   "cell_type": "markdown",
   "id": "24d7560a",
   "metadata": {},
   "source": [
    "###  Byte Order?"
   ]
  },
  {
   "cell_type": "markdown",
   "id": "cca46f9e",
   "metadata": {},
   "source": [
    "### structs"
   ]
  },
  {
   "cell_type": "markdown",
   "id": "64408131",
   "metadata": {},
   "source": [
    "struct **addrinfo**"
   ]
  },
  {
   "cell_type": "code",
   "execution_count": 11,
   "id": "11cbbd7d",
   "metadata": {},
   "outputs": [],
   "source": [
    "class SockAddr:\n",
    "    # address family\n",
    "    sa_family: str\n",
    "    # contains a destination address and port number of socket\n",
    "    sa_data: str\n",
    "\n",
    "class InAddr:\n",
    "    s_addr: int  # that's a 32-bit int (4 bytes)\n",
    "\n",
    "class SockAddrIn:\n",
    "    sin_family: int\n",
    "    sin_port: int\n",
    "    sin_addr: InAddr\n",
    "    sin_zero: str\n",
    "\n",
    "class InAddr6:\n",
    "    s_addr: int\n",
    "\n",
    "class SockAddrIn6:\n",
    "    sin6_family: int\n",
    "    sin6_port: int\n",
    "    sin6_flowinfo: int\n",
    "    sin6_addr: InAddr6\n",
    "    sin6_scope_id: int\n",
    "\n",
    "class SockAddrStorage:\n",
    "    \"\"\"\n",
    "    Designed to be large enough to hold both IPv4 and IPv6\n",
    "    \"\"\"\n",
    "    ss_family: any\n",
    "    __ss_pad1: str\n",
    "    __ss_align: int\n",
    "    __ss_pad2: int\n",
    "\n",
    "class AddrInfo:\n",
    "    ai_flags: int \n",
    "    ai_family: int\n",
    "    ai_socktype: int\n",
    "    ai_protocol: int\n",
    "    ai_addrlen: int  #size of ai_addr\n",
    "    sockaddr: SockAddr\n",
    "    ai_canonname: str\n",
    "    addrinfo: AddrInfo"
   ]
  },
  {
   "cell_type": "markdown",
   "id": "a835569f",
   "metadata": {},
   "source": [
    "### Private (Or Disconnected) Networks"
   ]
  },
  {
   "cell_type": "markdown",
   "id": "d3806305",
   "metadata": {},
   "source": [
    "# 5. System Calls or Bust\n",
    "\n",
    "## 5.1 getaddrinfo() - prepare to launch\n",
    "\n",
    "It helps set up the _structs_ you need later on"
   ]
  },
  {
   "cell_type": "code",
   "execution_count": 1,
   "id": "af747533",
   "metadata": {},
   "outputs": [],
   "source": [
    "import struct\n",
    "\n",
    "def getaddrinfo(\n",
    "    node: str,  # eg: 'www.example.com'\n",
    "    service: str,  # eg: 'http' or number\n",
    "    addrinfo: struct.Struct,\n",
    "):\n",
    "    \"\"\"\n",
    "    Give this func three input parameters,\n",
    "    and it returns a pointer to linked-list, res of results.\n",
    "    Params:\n",
    "        node: host name or IP address\n",
    "        service: port number\n",
    "        addrinfo: struct addrinfo, that filled with relevant information\n",
    "    \"\"\"\n",
    "    pass"
   ]
  },
  {
   "cell_type": "markdown",
   "id": "21cf8754",
   "metadata": {},
   "source": [
    "## 5.2 socket() - Get the file descriptor\n",
    "\n",
    "Simply return _socket descriptor_ can be used later system calls."
   ]
  },
  {
   "cell_type": "code",
   "execution_count": 5,
   "id": "63fd2fe7",
   "metadata": {},
   "outputs": [],
   "source": [
    "def socket(\n",
    "    domain: int,  # PF_INET or PF_INET6\n",
    "    type: int,  # SOCKET_STREAM or SOCK_DGRAM\n",
    "    protocol: int,  # protocol can set to 0 to choose the proper protocol for given type (tcp, udp)\n",
    "):\n",
    "    \"\"\"\n",
    "    Return:\n",
    "        socket descriptor that use in later system calls.\n",
    "    \"\"\"\n",
    "    pass"
   ]
  },
  {
   "cell_type": "markdown",
   "id": "def1b6d7",
   "metadata": {},
   "source": [
    "## 5.3 bind() - What port am I on?\n",
    "\n",
    "Once you have a socket, you might have to associate that socket (_sock descriptor_) with a port on your local machine."
   ]
  },
  {
   "cell_type": "code",
   "execution_count": null,
   "id": "9e6aadd5",
   "metadata": {},
   "outputs": [],
   "source": [
    "def bind(\n",
    "    sockfd: int,\n",
    "    my_addr,\n",
    "    addrlen: int,\n",
    "):\n",
    "    \"\"\"\n",
    "    Params:\n",
    "        sockfd: socket file descriptor return by socket()\n",
    "        my_addr: a pointer to struct sockaddr that contain about your addr, namely, port, IP address.\n",
    "        addrlen: the length in bytes of that address.\n",
    "    \"\"\"\n",
    "    pass"
   ]
  },
  {
   "cell_type": "markdown",
   "id": "cfbd2cc5",
   "metadata": {},
   "source": [
    "## 5.4 connect() - Hey, you."
   ]
  },
  {
   "cell_type": "code",
   "execution_count": 6,
   "id": "5f06993d",
   "metadata": {},
   "outputs": [],
   "source": [
    "def connect(\n",
    "    sockfd: int,\n",
    "    serv_addr,\n",
    "    addrlen: int,\n",
    "):\n",
    "    \"\"\"\n",
    "    Params:\n",
    "        sockfd: our socket file descriptor\n",
    "        serv_addr: description port and IP\n",
    "        addrlen: leghth of server address\n",
    "    \"\"\"\n",
    "    pass"
   ]
  },
  {
   "cell_type": "markdown",
   "id": "68bea3c7",
   "metadata": {},
   "source": [
    "## 5.5 listen() - Will somebody please call me?"
   ]
  },
  {
   "cell_type": "code",
   "execution_count": 7,
   "id": "ecf172e0",
   "metadata": {},
   "outputs": [],
   "source": [
    "def listen(\n",
    "    sockfd: int,\n",
    "    backlog: int,\n",
    "):\n",
    "    \"\"\"\n",
    "    Params:\n",
    "        sockfd: socket file descriptor from the socket() system call\n",
    "        backlog: the number of connections allowed on the incoming queue\n",
    "    \"\"\"\n",
    "    pass"
   ]
  },
  {
   "cell_type": "markdown",
   "id": "b2705161",
   "metadata": {},
   "source": [
    "## 5.6 accept() - thank for calling\n",
    "\n",
    "## 5.7 send() and recv()\n",
    "\n",
    "## 5.8 sendto() and recvfrom()\n",
    "\n",
    "## 5.9 close() and shutdown()"
   ]
  },
  {
   "cell_type": "markdown",
   "id": "bd63f9de",
   "metadata": {},
   "source": [
    "# Socket programing in Python\n",
    "\n",
    "https://realpython.com/python-sockets/"
   ]
  },
  {
   "cell_type": "code",
   "execution_count": null,
   "id": "2e6c7816",
   "metadata": {},
   "outputs": [],
   "source": [
    "import socket\n",
    "\n",
    "HOST = '127.0.0.1'\n",
    "PORT = 65432\n",
    "UDP_PORT = 65430\n",
    "\n",
    "def test_stream_socket():\n",
    "    sock = socket.socket(socket.AF_INET, socket.SOCK_STREAM)\n",
    "    sock.connect((HOST, PORT))\n",
    "    sock.sendall(bytes(1024))\n",
    "    sock.recv(1024)\n",
    "    sock.close()\n",
    "\n",
    "def test_dg_socket():\n",
    "    sock = socket.socket(socket.AF_INET, socket.SOCK_DGRAM)\n",
    "    sock.sendto(bytes(1024), (HOST, UDP_PORT))\n",
    "    message, addr = sock.recvfrom(1024)\n",
    "    sock.close()"
   ]
  },
  {
   "cell_type": "markdown",
   "id": "69cbdd3d",
   "metadata": {},
   "source": [
    "#  Slightly advanced\n",
    "\n",
    "## Blocking\n",
    "\n",
    "_accept()_ and _recv() are functions block. The reason they can do this because they're allowed to. When you first create the socket descriptor with _socket()_, the kernel sets it to blocking.\n",
    "\n",
    "If you try to read from a non-blocking socket and there's no data there, it's not allowed to block, it will raise an exception.\n",
    "\n",
    "If you put your program in a busy-wait looking for data on the socket, you'll suckup the CPU time.\n",
    "\n",
    "## _poll()_ synchronous I/O multiplexing\n",
    "\n",
    "What you really want to be able to do is somehow monitor a _bunch_ of sockets at once and then handle the ones that have data ready. This way you don't have to continously poll all those sockets to see which are ready to read.\n",
    "\n",
    "In a nutshell, we're going to ask the OS to do all the dirty work for us, and just let us know when some data is ready to read on which sockets. In the meantime, our process can go to sleep, saving system resources.\n",
    "\n",
    "_poll()_ is horribly slow when it comes to giant numbers of connections.\n",
    "\n",
    "## _select()_ synchronous I/O multiplexing - old school\n",
    "\n",
    "Problem: you are a server and you want to listen for incoming connections as well as keep reading from the connections you already have.\n",
    "\n",
    "selects() gives you the power to monitor several sockets at the same time. It'll tell you which ones are ready for reading, which are ready for writing, and which sockets have raised exceptions, if you really want to know that.\n",
    "\n",
    "_Warning:_ though very portable, _select()_ is terrible slow when it comes to giant numbers of connections.\n",
    "\n",
    "\n",
    "\n",
    "\n"
   ]
  },
  {
   "cell_type": "markdown",
   "id": "2cd2fdac",
   "metadata": {},
   "source": [
    "## Tool tips\n",
    "- List all open sockets: netstat\n",
    "- View routing table: route, netstart -r\n",
    "\n",
    "## SSL explaination\n",
    "\n",
    "Serverside\n",
    "- server read data from file\n",
    "- server encrypts/compresses data\n",
    "- server send() encrypted data\n",
    "\n",
    "Client\n",
    "- client recv() encrypted data\n",
    "- client decrypts/decompresses data\n",
    "- client writes data to file\n",
    "\n",
    "## Write a server that accept shell command from client and execute them\n",
    "Client\n",
    "- connect() to server\n",
    "- send(\"/sbin/ls > /tmp/client.out\")\n",
    "- close() the connection\n",
    "\n",
    "Meanwhile Server\n",
    "- accept() the connection from client\n",
    "- recv(str) the command string\n",
    "- close() the connection\n",
    "- system(str) to run the command"
   ]
  },
  {
   "cell_type": "markdown",
   "id": "57ab1dd7",
   "metadata": {},
   "source": []
  },
  {
   "cell_type": "markdown",
   "id": "aa9ed9d7",
   "metadata": {},
   "source": []
  },
  {
   "cell_type": "markdown",
   "id": "d787af1c",
   "metadata": {},
   "source": []
  },
  {
   "cell_type": "markdown",
   "id": "d2872743",
   "metadata": {},
   "source": []
  },
  {
   "cell_type": "markdown",
   "id": "2a4d9a6b",
   "metadata": {},
   "source": []
  },
  {
   "cell_type": "markdown",
   "id": "1cc1c7c1",
   "metadata": {},
   "source": []
  },
  {
   "cell_type": "markdown",
   "id": "b9b00b6e",
   "metadata": {},
   "source": []
  },
  {
   "cell_type": "markdown",
   "id": "778bac6d",
   "metadata": {},
   "source": []
  },
  {
   "cell_type": "markdown",
   "id": "9181363f",
   "metadata": {},
   "source": []
  },
  {
   "cell_type": "markdown",
   "id": "b4fe3f6f",
   "metadata": {},
   "source": []
  },
  {
   "cell_type": "markdown",
   "id": "2ce9633c",
   "metadata": {},
   "source": []
  },
  {
   "cell_type": "markdown",
   "id": "b7f94684",
   "metadata": {},
   "source": []
  },
  {
   "cell_type": "markdown",
   "id": "4a5d4260",
   "metadata": {},
   "source": []
  }
 ],
 "metadata": {
  "kernelspec": {
   "display_name": "Python 3 (ipykernel)",
   "language": "python",
   "name": "python3"
  },
  "language_info": {
   "codemirror_mode": {
    "name": "ipython",
    "version": 3
   },
   "file_extension": ".py",
   "mimetype": "text/x-python",
   "name": "python",
   "nbconvert_exporter": "python",
   "pygments_lexer": "ipython3",
   "version": "3.8.10"
  }
 },
 "nbformat": 4,
 "nbformat_minor": 5
}
